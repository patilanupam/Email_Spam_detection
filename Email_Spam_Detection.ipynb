{
  "cells": [
    {
      "cell_type": "code",
      "execution_count": 1,
      "metadata": {
        "colab": {
          "base_uri": "https://localhost:8080/"
        },
        "id": "idjVcZfScmJa",
        "outputId": "80efe8fe-4ef3-4030-bedf-b356e8569939"
      },
      "outputs": [
        {
          "output_type": "stream",
          "name": "stdout",
          "text": [
            "Mounted at /content/drive\n"
          ]
        }
      ],
      "source": [
        "from google.colab import drive\n",
        "drive.mount('/content/drive')"
      ]
    },
    {
      "cell_type": "code",
      "execution_count": 2,
      "metadata": {
        "colab": {
          "base_uri": "https://localhost:8080/"
        },
        "id": "DMiLjoMVcilL",
        "outputId": "b9b99d03-b700-40ca-f730-6f2d79a58c18"
      },
      "outputs": [
        {
          "output_type": "stream",
          "name": "stderr",
          "text": [
            "[nltk_data] Downloading package stopwords to /root/nltk_data...\n",
            "[nltk_data]   Unzipping corpora/stopwords.zip.\n"
          ]
        }
      ],
      "source": [
        "import pandas as pd\n",
        "import numpy as np\n",
        "import re\n",
        "import string\n",
        "from sklearn.model_selection import train_test_split\n",
        "from sklearn.feature_extraction.text import TfidfVectorizer\n",
        "from sklearn.naive_bayes import MultinomialNB\n",
        "from sklearn.metrics import classification_report, confusion_matrix\n",
        "import nltk\n",
        "import gradio as gr\n",
        "\n",
        "nltk.download('stopwords')\n",
        "from nltk.corpus import stopwords\n",
        "stop_words = set(stopwords.words('english'))\n"
      ]
    },
    {
      "cell_type": "code",
      "execution_count": 3,
      "metadata": {
        "id": "vp8lHc5ifWju"
      },
      "outputs": [],
      "source": [
        "# Simulate sample loading - replace this with your actual data\n",
        "data = pd.read_csv('/content/drive/My Drive/emails.csv', header=None, names=['text', 'label'])  # If already combined\n",
        "\n",
        "\n",
        "def clean_text(text):\n",
        "    text = text.lower()\n",
        "    text = re.sub(r\"http\\S+|www\\S+|https\\S+\", '', text, flags=re.MULTILINE)  # URLs\n",
        "    text = re.sub(r'\\@w+|\\#','', text)  # Mentions & hashtags\n",
        "    text = re.sub(r'[^\\w\\s]', '', text)  # Punctuation\n",
        "    text = re.sub(r'\\d+', '', text)  # Numbers\n",
        "    tokens = text.split()\n",
        "    tokens = [word for word in tokens if word not in stop_words]\n",
        "    return ' '.join(tokens)\n",
        "\n",
        "data['clean_text'] = data['text'].apply(clean_text)\n"
      ]
    },
    {
      "cell_type": "code",
      "execution_count": 4,
      "metadata": {
        "colab": {
          "base_uri": "https://localhost:8080/",
          "height": 211
        },
        "id": "gConEUxsfrJL",
        "outputId": "f9ce90b7-bdf2-4145-a0a8-2a3a1ee01262"
      },
      "outputs": [
        {
          "output_type": "error",
          "ename": "NameError",
          "evalue": "name 'tfidf' is not defined",
          "traceback": [
            "\u001b[0;31m---------------------------------------------------------------------------\u001b[0m",
            "\u001b[0;31mNameError\u001b[0m                                 Traceback (most recent call last)",
            "\u001b[0;32m/tmp/ipython-input-4-3161194808.py\u001b[0m in \u001b[0;36m<cell line: 0>\u001b[0;34m()\u001b[0m\n\u001b[1;32m      4\u001b[0m \u001b[0mX\u001b[0m \u001b[0;34m=\u001b[0m \u001b[0mdata_balanced\u001b[0m\u001b[0;34m[\u001b[0m\u001b[0;34m'clean_text'\u001b[0m\u001b[0;34m]\u001b[0m\u001b[0;34m\u001b[0m\u001b[0;34m\u001b[0m\u001b[0m\n\u001b[1;32m      5\u001b[0m \u001b[0my\u001b[0m \u001b[0;34m=\u001b[0m \u001b[0mdata_balanced\u001b[0m\u001b[0;34m[\u001b[0m\u001b[0;34m'label'\u001b[0m\u001b[0;34m]\u001b[0m\u001b[0;34m\u001b[0m\u001b[0;34m\u001b[0m\u001b[0m\n\u001b[0;32m----> 6\u001b[0;31m \u001b[0mX_vec\u001b[0m \u001b[0;34m=\u001b[0m \u001b[0mtfidf\u001b[0m\u001b[0;34m.\u001b[0m\u001b[0mfit_transform\u001b[0m\u001b[0;34m(\u001b[0m\u001b[0mX\u001b[0m\u001b[0;34m)\u001b[0m\u001b[0;34m\u001b[0m\u001b[0;34m\u001b[0m\u001b[0m\n\u001b[0m\u001b[1;32m      7\u001b[0m \u001b[0mX_train\u001b[0m\u001b[0;34m,\u001b[0m \u001b[0mX_test\u001b[0m\u001b[0;34m,\u001b[0m \u001b[0my_train\u001b[0m\u001b[0;34m,\u001b[0m \u001b[0my_test\u001b[0m \u001b[0;34m=\u001b[0m \u001b[0mtrain_test_split\u001b[0m\u001b[0;34m(\u001b[0m\u001b[0mX_vec\u001b[0m\u001b[0;34m,\u001b[0m \u001b[0my\u001b[0m\u001b[0;34m,\u001b[0m \u001b[0mtest_size\u001b[0m\u001b[0;34m=\u001b[0m\u001b[0;36m0.2\u001b[0m\u001b[0;34m,\u001b[0m \u001b[0mstratify\u001b[0m\u001b[0;34m=\u001b[0m\u001b[0my\u001b[0m\u001b[0;34m,\u001b[0m \u001b[0mrandom_state\u001b[0m\u001b[0;34m=\u001b[0m\u001b[0;36m42\u001b[0m\u001b[0;34m)\u001b[0m\u001b[0;34m\u001b[0m\u001b[0;34m\u001b[0m\u001b[0m\n\u001b[1;32m      8\u001b[0m \u001b[0;34m\u001b[0m\u001b[0m\n",
            "\u001b[0;31mNameError\u001b[0m: name 'tfidf' is not defined"
          ]
        }
      ],
      "source": [
        "X = data['clean_text']\n",
        "y = data['label']\n",
        "data_balanced = data.groupby('label').filter(lambda x: len(x) > 1)\n",
        "X = data_balanced['clean_text']\n",
        "y = data_balanced['label']\n",
        "X_vec = tfidf.fit_transform(X)\n",
        "X_train, X_test, y_train, y_test = train_test_split(X_vec, y, test_size=0.2, stratify=y, random_state=42)\n",
        "\n",
        "tfidf = TfidfVectorizer()\n",
        "X_vec = tfidf.fit_transform(X)\n",
        "\n",
        "X_train, X_test, y_train, y_test = train_test_split(X_vec, y, test_size=0.2, random_state=42)\n",
        "\n",
        "model = MultinomialNB()\n",
        "model.fit(X_train, y_train)\n",
        "\n",
        "y_pred = model.predict(X_test)\n",
        "print(confusion_matrix(y_test, y_pred))\n",
        "print(classification_report(y_test, y_pred))\n"
      ]
    },
    {
      "cell_type": "code",
      "execution_count": null,
      "metadata": {
        "id": "QgrysIqFfuoc"
      },
      "outputs": [],
      "source": [
        "def predict_spam(email_text):\n",
        "    cleaned = clean_text(email_text)\n",
        "    vectorized = tfidf.transform([cleaned])\n",
        "    prediction = model.predict(vectorized)[0]\n",
        "    proba = model.predict_proba(vectorized)[0].max()\n",
        "    label = \"Spam\" if prediction == 1 else \"Not Spam\"\n",
        "    return f\"{label} (Confidence: {round(proba * 100, 2)}%)\"\n",
        "\n",
        "interface = gr.Interface(fn=predict_spam,\n",
        "                         inputs=gr.Textbox(lines=15, placeholder=\"Paste your email here...\"),\n",
        "                         outputs=\"text\",\n",
        "                         title=\"Email Spam Classifier\")\n",
        "\n",
        "interface.launch()\n"
      ]
    },
    {
      "cell_type": "code",
      "execution_count": null,
      "metadata": {
        "id": "vc0IcFFLl9fy"
      },
      "outputs": [],
      "source": [
        "# 📦 Install Gradio if not already\n",
        "!pip install -q gradio\n"
      ]
    },
    {
      "cell_type": "code",
      "execution_count": null,
      "metadata": {
        "id": "u6UF9Yfnlk3k"
      },
      "outputs": [],
      "source": [
        "\n",
        "# 📚 Imports\n",
        "import pandas as pd\n",
        "import re\n",
        "from sklearn.feature_extraction.text import TfidfVectorizer\n",
        "from sklearn.model_selection import train_test_split\n",
        "from sklearn.naive_bayes import MultinomialNB\n",
        "from sklearn.metrics import classification_report, confusion_matrix\n",
        "import gradio as gr\n",
        "from nltk.corpus import stopwords\n",
        "import nltk\n",
        "nltk.download('stopwords')\n",
        "stop_words = set(stopwords.words('english'))\n",
        "\n",
        "# 📁 Load CSV from Google Drive\n",
        "data = pd.read_csv('/content/drive/My Drive/emails.csv', header=None, names=['text', 'label'])\n",
        "\n",
        "# 🧹 Clean text function\n",
        "def clean_text(text):\n",
        "    text = text.lower()\n",
        "    text = re.sub(r\"http\\S+|www\\S+|https\\S+\", '', text)  # Remove URLs\n",
        "    text = re.sub(r'\\@w+|\\#','', text)  # Remove mentions and hashtags\n",
        "    text = re.sub(r'[^\\w\\s]', '', text)  # Remove punctuation\n",
        "    text = re.sub(r'\\d+', '', text)  # Remove digits\n",
        "    tokens = text.split()\n",
        "    tokens = [word for word in tokens if word not in stop_words]\n",
        "    return ' '.join(tokens)\n",
        "\n",
        "# 🧹 Apply cleaning\n",
        "data['clean_text'] = data['text'].apply(clean_text)\n",
        "\n",
        "# ✂️ Features & Labels\n",
        "X = data['clean_text']\n",
        "y = data['label']\n",
        "\n",
        "# 🔢 TF-IDF Vectorization (n-grams help detect spam phrases)\n",
        "tfidf = TfidfVectorizer(ngram_range=(1,2), stop_words='english', max_features=5000)\n",
        "X_vec = tfidf.fit_transform(X)\n",
        "\n",
        "# 🔀 Train-Test Split\n",
        "# X_train, X_test, y_train, y_test = train_test_split(X_vec, y, test_size=0.2, stratify=y, random_state=42)\n",
        "X_train, X_test, y_train, y_test = train_test_split(X_vec, y, test_size=0.2, random_state=42)\n",
        "\n",
        "\n",
        "# 🤖 Train Naive Bayes Classifier\n",
        "model = MultinomialNB()\n",
        "model.fit(X_train, y_train)\n",
        "\n",
        "# 📊 Evaluate\n",
        "y_pred = model.predict(X_test)\n",
        "print(\"Confusion Matrix:\\n\", confusion_matrix(y_test, y_pred))\n",
        "print(\"\\nClassification Report:\\n\", classification_report(y_test, y_pred))\n",
        "\n",
        "# 📩 Spam Prediction Function\n",
        "def predict_spam(email_text):\n",
        "    cleaned = clean_text(email_text)\n",
        "    vectorized = tfidf.transform([cleaned])\n",
        "    prediction = model.predict(vectorized)[0]\n",
        "    proba = model.predict_proba(vectorized)[0].max()\n",
        "    label = \"Spam\" if prediction == 1 else \"Not Spam\"\n",
        "    return f\"{label} (Confidence: {round(proba * 100, 2)}%)\"\n",
        "\n",
        "# 🖼️ Gradio Interface\n",
        "interface = gr.Interface(\n",
        "    fn=predict_spam,\n",
        "    inputs=gr.Textbox(lines=15, placeholder=\"Paste your email here...\"),\n",
        "    outputs=\"text\",\n",
        "    title=\"📧 Email Spam Classifier (MultinomialNB)\",\n",
        "    description=\"Paste a full email (subject + body) and get a spam prediction.\"\n",
        ")\n",
        "\n",
        "# 🚀 Launch app\n",
        "interface.launch(debug=True, share=True)\n"
      ]
    }
  ],
  "metadata": {
    "colab": {
      "provenance": []
    },
    "kernelspec": {
      "display_name": "Python 3",
      "name": "python3"
    },
    "language_info": {
      "name": "python"
    }
  },
  "nbformat": 4,
  "nbformat_minor": 0
}